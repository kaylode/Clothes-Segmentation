{
  "nbformat": 4,
  "nbformat_minor": 0,
  "metadata": {
    "colab": {
      "name": "Covid19 Tweets Sentiment Analysis.ipynb",
      "provenance": [],
      "collapsed_sections": [],
      "authorship_tag": "ABX9TyOq2spQhEwvPjfPpL5KSCEf",
      "include_colab_link": true
    },
    "kernelspec": {
      "name": "python3",
      "display_name": "Python 3"
    }
  },
  "cells": [
    {
      "cell_type": "markdown",
      "metadata": {
        "id": "view-in-github",
        "colab_type": "text"
      },
      "source": [
        "<a href=\"https://colab.research.google.com/github/kaylode/Unnamed-Project/blob/master/Covid19_Tweets_Sentiment_Analysis.ipynb\" target=\"_parent\"><img src=\"https://colab.research.google.com/assets/colab-badge.svg\" alt=\"Open In Colab\"/></a>"
      ]
    },
    {
      "cell_type": "markdown",
      "metadata": {
        "id": "CqU8wDrm_gxd",
        "colab_type": "text"
      },
      "source": [
        "Vào link này, lưu folder về drive của mình :\n",
        "https://drive.google.com/open?id=1LPxRnvgyZGV71unFMECefbtIqhp981qY"
      ]
    },
    {
      "cell_type": "code",
      "metadata": {
        "id": "BOXBccu7q92k",
        "colab_type": "code",
        "outputId": "2f12c4f7-589b-4cac-ab52-20aa7fe27998",
        "colab": {
          "base_uri": "https://localhost:8080/",
          "height": 122
        }
      },
      "source": [
        "from google.colab import drive\n",
        "drive.mount('/content/drive')"
      ],
      "execution_count": 0,
      "outputs": [
        {
          "output_type": "stream",
          "text": [
            "Go to this URL in a browser: https://accounts.google.com/o/oauth2/auth?client_id=947318989803-6bn6qk8qdgf4n4g3pfee6491hc0brc4i.apps.googleusercontent.com&redirect_uri=urn%3aietf%3awg%3aoauth%3a2.0%3aoob&response_type=code&scope=email%20https%3a%2f%2fwww.googleapis.com%2fauth%2fdocs.test%20https%3a%2f%2fwww.googleapis.com%2fauth%2fdrive%20https%3a%2f%2fwww.googleapis.com%2fauth%2fdrive.photos.readonly%20https%3a%2f%2fwww.googleapis.com%2fauth%2fpeopleapi.readonly\n",
            "\n",
            "Enter your authorization code:\n",
            "··········\n",
            "Mounted at /content/drive\n"
          ],
          "name": "stdout"
        }
      ]
    },
    {
      "cell_type": "code",
      "metadata": {
        "id": "e9KGLvwzvQWu",
        "colab_type": "code",
        "colab": {}
      },
      "source": [
        "import pandas as pd\n",
        "import numpy as np\n",
        "import os\n",
        "\n",
        "DRIVE_DIR = \"/content/drive/My Drive/tweets-dataset\"\n",
        "dataset_names =[\"sentiment140\", \"semeval\"]\n",
        "DATA_DIR = {\n",
        "    name: {\n",
        "        \"train\" : os.path.join(DRIVE_DIR, name, \"train\") ,\n",
        "        \"test\" : os.path.join(DRIVE_DIR, name, \"test\")\n",
        "        } for name in dataset_names\n",
        "}\n",
        "\n",
        "all_training_path = {i : os.listdir(DATA_DIR[i][\"train\"]) for i in dataset_names}\n",
        "#all_test_path = {i : os.listdir(DATA_DIR[i][\"test\"]) for i in dataset_names}"
      ],
      "execution_count": 0,
      "outputs": []
    },
    {
      "cell_type": "code",
      "metadata": {
        "id": "BCxXEIQ71XZ1",
        "colab_type": "code",
        "colab": {}
      },
      "source": [
        "def files_to_dataset(pathdict, mode=\"train\"):\n",
        "    all_tables = []\n",
        "    supported_filetypes = [\".csv\", \".tsv\", \".txt\"]\n",
        "    for name, files in pathdict.items():\n",
        "        for filename in files:\n",
        "          path = os.path.join(DATA_DIR[name][mode], filename)\n",
        "\n",
        "          filetype = path[-4:]\n",
        "        \n",
        "          if filetype in supported_filetypes:\n",
        "              if filetype == \".csv\":\n",
        "                  delimiter = \",\"\n",
        "              else:\n",
        "                  delimiter = \"\\t\"\n",
        "          else:\n",
        "              assert False,\"File type not supported\"\n",
        "\n",
        "          table = pd.read_csv(path, encoding='latin-1', delimiter=delimiter, header= None)\n",
        "          print(filename)\n",
        "          all_tables.append(table)\n",
        "    return all_tables"
      ],
      "execution_count": 0,
      "outputs": []
    },
    {
      "cell_type": "code",
      "metadata": {
        "id": "5EK7-Vu12M63",
        "colab_type": "code",
        "colab": {}
      },
      "source": [
        "tables = files_to_dataset(all_training_path)"
      ],
      "execution_count": 0,
      "outputs": []
    },
    {
      "cell_type": "code",
      "metadata": {
        "id": "jVs1ULnPue6b",
        "colab_type": "code",
        "colab": {
          "base_uri": "https://localhost:8080/",
          "height": 85
        },
        "outputId": "c3b2d15e-d4f0-4048-ce7c-5c2aff890f31"
      },
      "source": [
        "for i in range(len(tables)):\n",
        "    print(len(tables[i]))"
      ],
      "execution_count": 54,
      "outputs": [
        {
          "output_type": "stream",
          "text": [
            "1600000\n",
            "5868\n",
            "9684\n",
            "489\n"
          ],
          "name": "stdout"
        }
      ]
    }
  ]
}